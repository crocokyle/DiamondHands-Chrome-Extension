{
  "nbformat": 4,
  "nbformat_minor": 0,
  "metadata": {
    "colab": {
      "name": "Google Capstone tests.ipynb",
      "provenance": [],
      "collapsed_sections": [],
      "toc_visible": true,
      "authorship_tag": "ABX9TyPHdkSCDm5HJyo4EcUSActk",
      "include_colab_link": true
    },
    "kernelspec": {
      "name": "python3",
      "display_name": "Python 3"
    },
    "language_info": {
      "name": "python"
    }
  },
  "cells": [
    {
      "cell_type": "markdown",
      "metadata": {
        "id": "view-in-github",
        "colab_type": "text"
      },
      "source": [
        "<a href=\"https://colab.research.google.com/github/crocokyle/DiamondHands-Chrome-Extension/blob/main/Google_Capstone_tests.ipynb\" target=\"_parent\"><img src=\"https://colab.research.google.com/assets/colab-badge.svg\" alt=\"Open In Colab\"/></a>"
      ]
    },
    {
      "cell_type": "markdown",
      "metadata": {
        "id": "nvToE_JhiGKL"
      },
      "source": [
        "# Final Project"
      ]
    },
    {
      "cell_type": "markdown",
      "metadata": {
        "id": "T4ZFwBMPiLdA"
      },
      "source": [
        "### Summary\n",
        "\n",
        "- Upload the new products to your online store. Images and descriptions should be uploaded separately, using two different web endpoints.\n",
        "- Send a report back to the supplier, letting them know what you imported.\n",
        "- Run a script on your web server to monitor system health.\n",
        "- Send an email with an alert if the server is ever unhealthy.\n",
        "\n",
        "### Description\n",
        "\n",
        "> You work for an online fruits store, and you need to develop a system that will update the catalog information with data provided by your suppliers. The suppliers send the data as large images with an associated description of the products in two files (.TIF for the image and .txt for the description). The images need to be converted to smaller jpeg images and the text needs to be turned into an HTML file that shows the image and the product description. The contents of the HTML file need to be uploaded to a web service that is already running using Django. You also need to gather the name and weight of all fruits from the .txt files and use a Python request to upload it to your Django server.\n",
        "\n",
        ">You will create a Python script that will process the images and descriptions and then update your company's online website to add the new products.\n",
        "\n",
        ">Once the task is complete, the supplier should be notified with an email that indicates the total weight of fruit (in lbs) that were uploaded. The email should have a PDF attached with the name of the fruit and its total weight (in lbs). \n",
        "\n",
        ">Finally, in parallel to the automation running, we want to check the health of the system and send an email if something goes wrong.\n",
        "\n",
        "### Necessary modules\n",
        "\n",
        "- Python Image Library (PIL) - Tutorial\n",
        "- Requests (HTTP client library) - Quickstart\n",
        "- ReportLab (PDF creation library)\n",
        "- email (constructing email)\n",
        "- psutil (processes and system utilization)\n",
        "- shutil (file operations)\n",
        "- smtplib (sending email)\n"
      ]
    },
    {
      "cell_type": "markdown",
      "metadata": {
        "id": "CezqZ1k0vuWk"
      },
      "source": [
        "# PDFs with python"
      ]
    },
    {
      "cell_type": "markdown",
      "metadata": {
        "id": "tOaa1i6Vx_Yy"
      },
      "source": [
        "### PDF Text Basics"
      ]
    },
    {
      "cell_type": "code",
      "metadata": {
        "colab": {
          "base_uri": "https://localhost:8080/"
        },
        "id": "KuS_geTlwE2v",
        "outputId": "b41a99d4-d489-4527-d973-c8dd594ea08c"
      },
      "source": [
        "!pip3 install reportlab"
      ],
      "execution_count": null,
      "outputs": [
        {
          "output_type": "stream",
          "text": [
            "Collecting reportlab\n",
            "\u001b[?25l  Downloading https://files.pythonhosted.org/packages/51/36/e0a6859c4fdab893c5ebb570e387fcf8dfe77d283650cd8422ef331cd892/reportlab-3.5.67-cp37-cp37m-manylinux2010_x86_64.whl (2.6MB)\n",
            "\u001b[K     |████████████████████████████████| 2.6MB 5.6MB/s \n",
            "\u001b[?25hRequirement already satisfied: pillow>=4.0.0 in /usr/local/lib/python3.7/dist-packages (from reportlab) (7.1.2)\n",
            "Installing collected packages: reportlab\n",
            "Successfully installed reportlab-3.5.67\n"
          ],
          "name": "stdout"
        }
      ]
    },
    {
      "cell_type": "code",
      "metadata": {
        "id": "PR2OeLcxv_AA"
      },
      "source": [
        "fruit = {\n",
        "  \"figs\": 1,\n",
        "  \"apples\": 2,\n",
        "  \"durians\": 3,\n",
        "  \"bananas\": 5,\n",
        "  \"cherries\": 8,\n",
        "  \"grapes\": 13\n",
        "}\n",
        "\n",
        "from reportlab.platypus import SimpleDocTemplate, Paragraph, Spacer, Table, Image\n",
        "from reportlab.lib.styles import getSampleStyleSheet\n",
        "styles = getSampleStyleSheet()\n",
        "\n",
        "report = SimpleDocTemplate(\"report.pdf\")\n",
        "report_title = Paragraph(\"A Complete Inventory of My Fruit\", styles[\"h1\"])\n",
        "\n",
        "report.build([report_title])"
      ],
      "execution_count": null,
      "outputs": []
    },
    {
      "cell_type": "markdown",
      "metadata": {
        "id": "_-Zku6bjwwh7"
      },
      "source": [
        "![image.png](data:image/png;base64,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)"
      ]
    },
    {
      "cell_type": "code",
      "metadata": {
        "colab": {
          "base_uri": "https://localhost:8080/"
        },
        "id": "1UvOs4JKxEFK",
        "outputId": "c5066651-3e67-47d4-9602-ebe84415cc03"
      },
      "source": [
        "table_data = []\n",
        "for k, v in fruit.items():\n",
        "  table_data.append([k, v])\n",
        "\n",
        "print(table_data)\n",
        "report_table = Table(data=table_data)\n",
        "report.build([report_title, report_table])"
      ],
      "execution_count": null,
      "outputs": [
        {
          "output_type": "stream",
          "text": [
            "[['figs', 1], ['apples', 2], ['durians', 3], ['bananas', 5], ['cherries', 8], ['grapes', 13]]\n"
          ],
          "name": "stdout"
        }
      ]
    },
    {
      "cell_type": "markdown",
      "metadata": {
        "id": "gDVQE8vXxVfI"
      },
      "source": [
        "![image.png](data:image/png;base64,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)"
      ]
    },
    {
      "cell_type": "code",
      "metadata": {
        "id": "sDVMrCLlxeM8"
      },
      "source": [
        "from reportlab.lib import colors\n",
        "table_style = [('GRID', (0,0), (-1,-1), 1, colors.black)]\n",
        "report_table = Table(data=table_data, style=table_style, hAlign=\"LEFT\")\n",
        "report.build([report_title, report_table])"
      ],
      "execution_count": null,
      "outputs": []
    },
    {
      "cell_type": "markdown",
      "metadata": {
        "id": "bynbJUWNxlol"
      },
      "source": [
        "![image.png](data:image/png;base64,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)"
      ]
    },
    {
      "cell_type": "markdown",
      "metadata": {
        "id": "HwyNZIDJxymB"
      },
      "source": [
        "### PDF Graphics"
      ]
    },
    {
      "cell_type": "code",
      "metadata": {
        "colab": {
          "base_uri": "https://localhost:8080/"
        },
        "id": "Pc2qpJ8xx0nj",
        "outputId": "cd041543-2b55-4924-9451-19ca9a1ea332"
      },
      "source": [
        "from reportlab.graphics.shapes import Drawing\n",
        "from reportlab.graphics.charts.piecharts import Pie\n",
        "report_pie = Pie(width=3, height=3)\n",
        "\n",
        "report_pie.data = []\n",
        "report_pie.labels = []\n",
        "for fruit_name in sorted(fruit):\n",
        "   report_pie.data.append(fruit[fruit_name])\n",
        "   report_pie.labels.append(fruit_name)\n",
        "\n",
        "print(report_pie.data)\n",
        "\n",
        "print(report_pie.labels)"
      ],
      "execution_count": null,
      "outputs": [
        {
          "output_type": "stream",
          "text": [
            "[2, 5, 8, 3, 1, 13]\n",
            "['apples', 'bananas', 'cherries', 'durians', 'figs', 'grapes']\n"
          ],
          "name": "stdout"
        }
      ]
    },
    {
      "cell_type": "code",
      "metadata": {
        "id": "fmQdTrgPyTul"
      },
      "source": [
        "report_chart = Drawing()\n",
        "report_chart.add(report_pie)\n",
        "report.build([report_title, report_table, report_chart])"
      ],
      "execution_count": null,
      "outputs": []
    },
    {
      "cell_type": "markdown",
      "metadata": {
        "id": "yteSjfvNyfVR"
      },
      "source": [
        "![image.png](data:image/png;base64,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)"
      ]
    },
    {
      "cell_type": "markdown",
      "metadata": {
        "id": "2DEfk8ByvKKg"
      },
      "source": [
        "# Email with python"
      ]
    },
    {
      "cell_type": "code",
      "metadata": {
        "colab": {
          "base_uri": "https://localhost:8080/"
        },
        "id": "_nkmDxlkqWzd",
        "outputId": "f92f54b1-f393-4c3c-d376-4e9b41b04ddf"
      },
      "source": [
        "from email.message import EmailMessage\n",
        "\n",
        "message = EmailMessage()\n",
        "\n",
        "sender = \"me@example.com\"\n",
        "recipient = \"you@example.com\"\n",
        "\n",
        "message['From'] = sender\n",
        "message['To'] = recipient\n",
        "message['Subject'] = 'Greetings from {} to {}!'.format(sender, recipient)\n",
        "\n",
        "body = \"\"\"Hey there!\n",
        "\n",
        "I'm learning to send emails using Python!\"\"\"\n",
        "message.set_content(body)\n",
        "\n",
        "print(message)"
      ],
      "execution_count": null,
      "outputs": [
        {
          "output_type": "stream",
          "text": [
            "From: me@example.com\n",
            "To: you@example.com\n",
            "Subject: Greetings from me@example.com to you@example.com!\n",
            "Content-Type: text/plain; charset=\"utf-8\"\n",
            "Content-Transfer-Encoding: 7bit\n",
            "MIME-Version: 1.0\n",
            "\n",
            "Hey there!\n",
            "\n",
            "I'm learning to send emails using Python!\n",
            "\n"
          ],
          "name": "stdout"
        }
      ]
    },
    {
      "cell_type": "markdown",
      "metadata": {
        "id": "-I8G5zjBtCEf"
      },
      "source": [
        "\n",
        "\n",
        "```python\n",
        "import os.path\n",
        "attachment_path = \"example.png\"\n",
        "attachment_filename = os.path.basename(attachment_path)\n",
        "\n",
        "import mimetypes\n",
        "mime_type, _ = mimetypes.guess_type(attachment_path)\n",
        "print(mime_type)\n",
        "```\n",
        "image/png\n"
      ]
    },
    {
      "cell_type": "markdown",
      "metadata": {
        "id": "JlpFrvWOtLmL"
      },
      "source": [
        "```python\n",
        "mime_type, mime_subtype = mime_type.split('/', 1)\n",
        "print(mime_type)\n",
        "```\n",
        "image\n",
        "```python\n",
        "print(mime_subtype)\n",
        "```\n",
        "png"
      ]
    },
    {
      "cell_type": "markdown",
      "metadata": {
        "id": "kojyopkPtfMd"
      },
      "source": [
        "\n",
        "\n",
        "```python\n",
        "with open(attachment_path, 'rb') as ap:\n",
        "    message.add_attachment(ap.read(),\n",
        "                            maintype=mime_type,\n",
        "                            subtype=mime_subtype,\n",
        "                            filename=os.path.basename(attachment_path))\n",
        "    \n",
        "    print(message)\n",
        "```\n",
        "\n",
        "Content-Type: multipart/mixed; boundary=\"===============5350123048127315795==\"\n",
        "\n",
        "--===============5350123048127315795==\n",
        "Content-Type: text/plain; charset=\"utf-8\"\n",
        "Content-Transfer-Encoding: 7bit\n",
        "\n",
        "Hey there!\n",
        "\n",
        "I'm learning to send email using Python!\n",
        "\n",
        "--===============5350123048127315795==\n",
        "Content-Type: image/png\n",
        "Content-Transfer-Encoding: base64\n",
        "Content-Disposition: attachment; filename=\"example.png\"\n",
        "MIME-Version: 1.0\n",
        "\n",
        "iVBORw0KGgoAAAANSUhEUgAAASIAAABSCAYAAADw69nDAAAACXBIWXMAAAsTAAALEwEAmpwYAAAg\n",
        "AElEQVR4nO2dd3wUZf7HP8/M9k2nKIJA4BCUNJKgNJWIBUUgEggCiSgeVhA8jzv05Gc5z4KHiqin\n",
        "eBZIIBDKIXggKIeCRCAhjQAqx4UiCARSt83uzDy/PzazTDZbwy4BnHde+9qZydNn97Pf5/uUIZRS\n",
        "(...We deleted a bunch of lines here...)\n",
        "wgAAAABJRU5ErkJggg==\n",
        "\n",
        "--===============5350123048127315795==--"
      ]
    },
    {
      "cell_type": "markdown",
      "metadata": {
        "id": "_OSO1vqiuLYf"
      },
      "source": [
        "```python\n",
        "import smtplib\n",
        "mail_server = smtplib.SMTP('localhost') # might not have a configured mail server\n",
        "```\n",
        "```python\n",
        "import getpass\n",
        "mail_server = smtplib.SMTP_SSL('smtp.example.com')\n",
        "mail_pass = getpass.getpass('Password? ')\n",
        "mail_server.login(sender, mail_pass)\n",
        "\n",
        "mail_server.send_message(message)\n",
        "\n",
        "mail_server.quit() # Close the connection to the mail server\n",
        "```"
      ]
    },
    {
      "cell_type": "markdown",
      "metadata": {
        "id": "SMa5Wv5_0gGg"
      },
      "source": [
        "### Lab Experiments\n"
      ]
    },
    {
      "cell_type": "code",
      "metadata": {
        "id": "SqUb9D9JPyfU"
      },
      "source": [
        "with open(\"car_sales.json\") as json_file:\n",
        "    data = json.load(json_file)\n",
        "\n",
        "for item in data:\n",
        "  display(item[\"car\"][\"car_year\"])"
      ],
      "execution_count": null,
      "outputs": []
    },
    {
      "cell_type": "code",
      "metadata": {
        "colab": {
          "base_uri": "https://localhost:8080/",
          "height": 718
        },
        "id": "wWcy1aocKayS",
        "outputId": "3cd81075-6f93-4d84-a8c2-e1566c3bb888"
      },
      "source": [
        "import sys\n",
        "import json\n",
        "import locale\n",
        "import pandas as pd\n",
        "\n",
        "def load_data(filename):\n",
        "  \"\"\"Loads the contents of filename as a JSON file.\"\"\"\n",
        "  with open(filename) as json_file:\n",
        "    data = json.load(json_file)\n",
        "  return data\n",
        "\n",
        "def format_car(car):\n",
        "  \"\"\"Given a car dictionary, returns a nicely formatted name.\"\"\"\n",
        "  return \"{} {} ({})\".format(\n",
        "      car[\"car_make\"], car[\"car_model\"], car[\"car_year\"])\n",
        "\n",
        "def process_data(data):\n",
        "  \"\"\"Analyzes the data, looking for maximums.\n",
        "\n",
        "  Returns a list of lines that summarize the information.\n",
        "  \"\"\"\n",
        "  max_revenue = {\"revenue\": 0}\n",
        "  model_sales = {\"total_sales\": 0}\n",
        "  year_sales = {}\n",
        "  for item in data:\n",
        "    # Calculate the revenue generated by this model (price * total_sales)\n",
        "    # We need to convert the price from \"$1234.56\" to 1234.56\n",
        "    item_price = locale.atof(item[\"price\"].strip(\"$\"))\n",
        "    item_revenue = item[\"total_sales\"] * item_price\n",
        "    if item_revenue > max_revenue[\"revenue\"]:\n",
        "      item[\"revenue\"] = item_revenue\n",
        "      max_revenue = item\n",
        "\n",
        "    # Gets the model with the highest number of sales\n",
        "    if item[\"total_sales\"] > model_sales[\"total_sales\"]:\n",
        "      model_sales = item\n",
        "\n",
        "    # Gets the most popular year (by number of sales NOT revenue)\n",
        "    if item[\"car\"][\"car_year\"] in year_sales:\n",
        "      year_sales[item[\"car\"][\"car_year\"]] += item[\"total_sales\"]\n",
        "    else:\n",
        "      year_sales[item[\"car\"][\"car_year\"]] = item[\"total_sales\"]\n",
        "\n",
        "  max_year = max(year_sales, key=year_sales.get)\n",
        "  max_year_sales = year_sales[max_year]\n",
        "\n",
        "  summary = [\n",
        "    \"The {} generated the most revenue: ${}\".format(\n",
        "      format_car(max_revenue[\"car\"]), max_revenue[\"revenue\"]),\n",
        "    \"The {} had the most sales: {}\".format(format_car(model_sales[\"car\"]), model_sales[\"total_sales\"]),\n",
        "    \"The most popular year was {} with {} sales.\".format(max_year, max_year_sales)\n",
        "  ]\n",
        "\n",
        "  return summary\n",
        "\n",
        "def cars_dict_to_table(car_data):\n",
        "  \"\"\"Turns the data in car_data into a list of lists.\"\"\"\n",
        "  table_data = [[\"ID\", \"Car\", \"Price\", \"Total Sales\"]]\n",
        "  for item in car_data:\n",
        "    table_data.append([item[\"id\"], format_car(item[\"car\"]), item[\"price\"], item[\"total_sales\"]])\n",
        "  return table_data\n",
        "\n",
        "\n",
        "def main(argv):\n",
        "  \"\"\"Process the JSON data and generate a full report out of it.\"\"\"\n",
        "  data = load_data(\"car_sales.json\")\n",
        "  summary = process_data(data)\n",
        "  email_summary_string = \"\\n\".join(summary)\n",
        "  report_summary_string = \"<br/>\".join(summary)\n",
        "  # Create a PDF report\n",
        "  table_data = cars_dict_to_table(data)\n",
        "  df = pd.DataFrame(table_data[1:], columns = table_data[0]).sort_values(by=['Total Sales'], ascending=False)\n",
        "  display(df)\n",
        "  headers = [list(df)]\n",
        "  headers.extend(df.values.tolist())\n",
        "  reports.generate(\"/tmp/cars.pdf\", \"Car Sales Report\", report_summary_string, headers)\n",
        "\n",
        "  # TODO: send the PDF report as an email attachment\n",
        "  sender = \"automation@example.com\"\n",
        "  receiver = \"{}@example.com\".format(os.environ.get('USER'))\n",
        "  subject = \"Sales summary for last month\"\n",
        "  body = email_summary_string\n",
        "  message = emails.generate(sender, receiver, subject, body, \"/tmp/cars.pdf\")\n",
        "  emails.send(message)\n",
        "\n",
        "\n",
        "if __name__ == \"__main__\":\n",
        "  main(sys.argv)"
      ],
      "execution_count": 62,
      "outputs": [
        {
          "output_type": "display_data",
          "data": {
            "text/html": [
              "<div>\n",
              "<style scoped>\n",
              "    .dataframe tbody tr th:only-of-type {\n",
              "        vertical-align: middle;\n",
              "    }\n",
              "\n",
              "    .dataframe tbody tr th {\n",
              "        vertical-align: top;\n",
              "    }\n",
              "\n",
              "    .dataframe thead th {\n",
              "        text-align: right;\n",
              "    }\n",
              "</style>\n",
              "<table border=\"1\" class=\"dataframe\">\n",
              "  <thead>\n",
              "    <tr style=\"text-align: right;\">\n",
              "      <th></th>\n",
              "      <th>ID</th>\n",
              "      <th>Car</th>\n",
              "      <th>Price</th>\n",
              "      <th>Total Sales</th>\n",
              "    </tr>\n",
              "  </thead>\n",
              "  <tbody>\n",
              "    <tr>\n",
              "      <th>461</th>\n",
              "      <td>462</td>\n",
              "      <td>Acura Integra (1995)</td>\n",
              "      <td>$18731.76</td>\n",
              "      <td>1192</td>\n",
              "    </tr>\n",
              "    <tr>\n",
              "      <th>484</th>\n",
              "      <td>485</td>\n",
              "      <td>Hyundai Sonata (2008)</td>\n",
              "      <td>$12011.32</td>\n",
              "      <td>1189</td>\n",
              "    </tr>\n",
              "    <tr>\n",
              "      <th>261</th>\n",
              "      <td>262</td>\n",
              "      <td>Mazda MX-5 (1999)</td>\n",
              "      <td>$8202.60</td>\n",
              "      <td>1188</td>\n",
              "    </tr>\n",
              "    <tr>\n",
              "      <th>319</th>\n",
              "      <td>320</td>\n",
              "      <td>Lexus GS (2003)</td>\n",
              "      <td>$18333.09</td>\n",
              "      <td>1184</td>\n",
              "    </tr>\n",
              "    <tr>\n",
              "      <th>457</th>\n",
              "      <td>458</td>\n",
              "      <td>Saab 900 (1987)</td>\n",
              "      <td>$7236.77</td>\n",
              "      <td>1183</td>\n",
              "    </tr>\n",
              "    <tr>\n",
              "      <th>...</th>\n",
              "      <td>...</td>\n",
              "      <td>...</td>\n",
              "      <td>...</td>\n",
              "      <td>...</td>\n",
              "    </tr>\n",
              "    <tr>\n",
              "      <th>383</th>\n",
              "      <td>384</td>\n",
              "      <td>Mercedes-Benz SLS-Class (2011)</td>\n",
              "      <td>$18044.75</td>\n",
              "      <td>96</td>\n",
              "    </tr>\n",
              "    <tr>\n",
              "      <th>108</th>\n",
              "      <td>109</td>\n",
              "      <td>Ford Mustang (1995)</td>\n",
              "      <td>$9642.12</td>\n",
              "      <td>90</td>\n",
              "    </tr>\n",
              "    <tr>\n",
              "      <th>272</th>\n",
              "      <td>273</td>\n",
              "      <td>Volvo V50 (2008)</td>\n",
              "      <td>$14039.48</td>\n",
              "      <td>87</td>\n",
              "    </tr>\n",
              "    <tr>\n",
              "      <th>314</th>\n",
              "      <td>315</td>\n",
              "      <td>Oldsmobile LSS (1999)</td>\n",
              "      <td>$15625.42</td>\n",
              "      <td>83</td>\n",
              "    </tr>\n",
              "    <tr>\n",
              "      <th>437</th>\n",
              "      <td>438</td>\n",
              "      <td>Lamborghini Diablo (1999)</td>\n",
              "      <td>$7853.75</td>\n",
              "      <td>80</td>\n",
              "    </tr>\n",
              "  </tbody>\n",
              "</table>\n",
              "<p>485 rows × 4 columns</p>\n",
              "</div>"
            ],
            "text/plain": [
              "      ID                             Car      Price  Total Sales\n",
              "461  462            Acura Integra (1995)  $18731.76         1192\n",
              "484  485           Hyundai Sonata (2008)  $12011.32         1189\n",
              "261  262               Mazda MX-5 (1999)   $8202.60         1188\n",
              "319  320                 Lexus GS (2003)  $18333.09         1184\n",
              "457  458                 Saab 900 (1987)   $7236.77         1183\n",
              "..   ...                             ...        ...          ...\n",
              "383  384  Mercedes-Benz SLS-Class (2011)  $18044.75           96\n",
              "108  109             Ford Mustang (1995)   $9642.12           90\n",
              "272  273                Volvo V50 (2008)  $14039.48           87\n",
              "314  315           Oldsmobile LSS (1999)  $15625.42           83\n",
              "437  438       Lamborghini Diablo (1999)   $7853.75           80\n",
              "\n",
              "[485 rows x 4 columns]"
            ]
          },
          "metadata": {
            "tags": []
          }
        },
        {
          "output_type": "error",
          "ename": "NameError",
          "evalue": "ignored",
          "traceback": [
            "\u001b[0;31m---------------------------------------------------------------------------\u001b[0m",
            "\u001b[0;31mNameError\u001b[0m                                 Traceback (most recent call last)",
            "\u001b[0;32m<ipython-input-62-f15c4ddc7136>\u001b[0m in \u001b[0;36m<module>\u001b[0;34m()\u001b[0m\n\u001b[1;32m     86\u001b[0m \u001b[0;34m\u001b[0m\u001b[0m\n\u001b[1;32m     87\u001b[0m \u001b[0;32mif\u001b[0m \u001b[0m__name__\u001b[0m \u001b[0;34m==\u001b[0m \u001b[0;34m\"__main__\"\u001b[0m\u001b[0;34m:\u001b[0m\u001b[0;34m\u001b[0m\u001b[0;34m\u001b[0m\u001b[0m\n\u001b[0;32m---> 88\u001b[0;31m   \u001b[0mmain\u001b[0m\u001b[0;34m(\u001b[0m\u001b[0msys\u001b[0m\u001b[0;34m.\u001b[0m\u001b[0margv\u001b[0m\u001b[0;34m)\u001b[0m\u001b[0;34m\u001b[0m\u001b[0;34m\u001b[0m\u001b[0m\n\u001b[0m",
            "\u001b[0;32m<ipython-input-62-f15c4ddc7136>\u001b[0m in \u001b[0;36mmain\u001b[0;34m(argv)\u001b[0m\n\u001b[1;32m     74\u001b[0m   \u001b[0mheaders\u001b[0m \u001b[0;34m=\u001b[0m \u001b[0;34m[\u001b[0m\u001b[0mlist\u001b[0m\u001b[0;34m(\u001b[0m\u001b[0mdf\u001b[0m\u001b[0;34m)\u001b[0m\u001b[0;34m]\u001b[0m\u001b[0;34m\u001b[0m\u001b[0;34m\u001b[0m\u001b[0m\n\u001b[1;32m     75\u001b[0m   \u001b[0mheaders\u001b[0m\u001b[0;34m.\u001b[0m\u001b[0mextend\u001b[0m\u001b[0;34m(\u001b[0m\u001b[0mdf\u001b[0m\u001b[0;34m.\u001b[0m\u001b[0mvalues\u001b[0m\u001b[0;34m.\u001b[0m\u001b[0mtolist\u001b[0m\u001b[0;34m(\u001b[0m\u001b[0;34m)\u001b[0m\u001b[0;34m)\u001b[0m\u001b[0;34m\u001b[0m\u001b[0;34m\u001b[0m\u001b[0m\n\u001b[0;32m---> 76\u001b[0;31m   \u001b[0mreports\u001b[0m\u001b[0;34m.\u001b[0m\u001b[0mgenerate\u001b[0m\u001b[0;34m(\u001b[0m\u001b[0;34m\"/tmp/cars.pdf\"\u001b[0m\u001b[0;34m,\u001b[0m \u001b[0;34m\"Car Sales Report\"\u001b[0m\u001b[0;34m,\u001b[0m \u001b[0mreport_summary_string\u001b[0m\u001b[0;34m,\u001b[0m \u001b[0mheaders\u001b[0m\u001b[0;34m)\u001b[0m\u001b[0;34m\u001b[0m\u001b[0;34m\u001b[0m\u001b[0m\n\u001b[0m\u001b[1;32m     77\u001b[0m \u001b[0;34m\u001b[0m\u001b[0m\n\u001b[1;32m     78\u001b[0m   \u001b[0;31m# TODO: send the PDF report as an email attachment\u001b[0m\u001b[0;34m\u001b[0m\u001b[0;34m\u001b[0m\u001b[0;34m\u001b[0m\u001b[0m\n",
            "\u001b[0;31mNameError\u001b[0m: name 'reports' is not defined"
          ]
        }
      ]
    },
    {
      "cell_type": "code",
      "metadata": {
        "id": "wnOXEahr0kje"
      },
      "source": [
        "#!/usr/bin/env python3\n",
        "import emails\n",
        "import os\n",
        "import reports\n",
        "table_data=[\n",
        "  ['Name', 'Amount', 'Value'],\n",
        "  ['elderberries', 10, 0.45],\n",
        "  ['figs', 5, 3],\n",
        "  ['apples', 4, 2.75],\n",
        "  ['durians', 1, 25],\n",
        "  ['bananas', 5, 1.99],\n",
        "  ['cherries', 23, 5.80],\n",
        "  ['grapes', 13, 2.48],\n",
        "  ['kiwi', 4, 0.49]]\n",
        "reports.generate(\"/tmp/report.pdf\", \"A Complete Inventory of My Fruit\", \"This is all my fruit.\", table_data)\n",
        "sender = \"automation@example.com\"\n",
        "receiver = \"{}@example.com\".format(os.environ.get('USER'))\n",
        "subject = \"List of Fruits\"\n",
        "body = \"Hi\\n\\nI'm sending an attachment with all my fruit.\"\n",
        "message = emails.generate(sender, receiver, subject, body, \"/tmp/report.pdf\")\n",
        "emails.send(message)"
      ],
      "execution_count": null,
      "outputs": []
    },
    {
      "cell_type": "code",
      "metadata": {
        "id": "ILITafC01ZEO"
      },
      "source": [
        "sample_JSON_object = {\n",
        "        \"id\": 47,\n",
        "        \"car\": {\n",
        "                \"car_make\": \"Lamborghini\",\n",
        "                \"car_model\": \"Murciélago\",\n",
        "                \"car_year\": 2002\n",
        "        },\n",
        "        \"price\": \"$13724.05\",\n",
        "        \"total_sales\": 149\n",
        "}"
      ],
      "execution_count": null,
      "outputs": []
    },
    {
      "cell_type": "markdown",
      "metadata": {
        "id": "7dulwEftqUBt"
      },
      "source": [
        "<hr></hr>"
      ]
    },
    {
      "cell_type": "markdown",
      "metadata": {
        "id": "tyQleki3vPOy"
      },
      "source": [
        "# Django web API with python"
      ]
    },
    {
      "cell_type": "code",
      "metadata": {
        "id": "cXDYbd9IhXJD"
      },
      "source": [
        "#! /usr/bin/env python3"
      ],
      "execution_count": null,
      "outputs": []
    },
    {
      "cell_type": "code",
      "metadata": {
        "colab": {
          "base_uri": "https://localhost:8080/"
        },
        "id": "m9DG4irQgtCw",
        "outputId": "739f420f-935d-4cd3-8b5f-b8142249c416"
      },
      "source": [
        "sample_text_review = \"Good deal for a 2015 RAV4\\nAnonymous\\n2018-04-17\\nCalled them to look for a second-hand RAV4 and they are very nice and patient to help me find a few matches then scheduled an appointment with me. I was surprised how professional those sales are and they explained and answered all my questions. Ended up buying the car and been using it for more than a month now. Everything looks good!\"\n",
        "print(sample_text_review)"
      ],
      "execution_count": null,
      "outputs": [
        {
          "output_type": "stream",
          "text": [
            "Good deal for a 2015 RAV4\n",
            "Anonymous\n",
            "2018-04-17\n",
            "Called them to look for a second-hand RAV4 and they are very nice and patient to help me find a few matches then scheduled an appointment with me. I was surprised how professional those sales are and they explained and answered all my questions. Ended up buying the car and been using it for more than a month now. Everything looks good!\n"
          ],
          "name": "stdout"
        }
      ]
    },
    {
      "cell_type": "code",
      "metadata": {
        "colab": {
          "base_uri": "https://localhost:8080/"
        },
        "id": "qVl4k0YzjaX7",
        "outputId": "f5e058f9-b6dc-4b4a-f77a-44ee7de1f413"
      },
      "source": [
        "import json\n",
        "\n",
        "review = {}\n",
        "line_list = []\n",
        "with open(\"sample_review.txt\") as file:\n",
        "    for line in file.readlines():\n",
        "        line_list.append(line[:-1]) # Remove \\n\n",
        "\n",
        "    review['title'] = line_list[0]\n",
        "    review['name'] = line_list[1]\n",
        "    review['date'] = line_list[2]\n",
        "    review['feedback'] = line_list[3]\n",
        "\n",
        "print(review)\n",
        "json_review = json.dumps(review)  \n",
        "print(json_review)\n"
      ],
      "execution_count": null,
      "outputs": [
        {
          "output_type": "stream",
          "text": [
            "{'title': 'Good deal for a 2015 RAV4', 'name': 'Anonymous', 'date': '2018-04-17', 'feedback': 'Called them to look for a second-hand RAV4 and they are very nice and patient to help me find a few matches then scheduled an appointment with me. I was surprised how professional those sales are and they explained and answered all my questions. Ended up buying the car and been using it for more than a month now. Everything looks good'}\n",
            "{\"title\": \"Good deal for a 2015 RAV4\", \"name\": \"Anonymous\", \"date\": \"2018-04-17\", \"feedback\": \"Called them to look for a second-hand RAV4 and they are very nice and patient to help me find a few matches then scheduled an appointment with me. I was surprised how professional those sales are and they explained and answered all my questions. Ended up buying the car and been using it for more than a month now. Everything looks good\"}\n"
          ],
          "name": "stdout"
        }
      ]
    },
    {
      "cell_type": "code",
      "metadata": {
        "id": "aWizYOrahsJS"
      },
      "source": [
        "#! /usr/bin/env python3\n",
        "import os\n",
        "import requests\n",
        "import json\n",
        "\n",
        "web_dir = \"/projects/corpweb\"\n",
        "review_dir = \"/data/feedback\"\n",
        "url = \"http://34.122.126.167/feedback/\"\n",
        "\n",
        "def main():\n",
        "\n",
        "    for file in os.listdir(review_dir):\n",
        "        review = {}\n",
        "        line_list = []\n",
        "        with open(os.path.join(review_dir, file)) as f:\n",
        "            for line in f.readlines():\n",
        "                line_list.append(line[:-1]) # Remove \\n\n",
        "\n",
        "            review['title'] = line_list[0]\n",
        "            review['name'] = line_list[1]\n",
        "            review['date'] = line_list[2]\n",
        "            review['feedback'] = line_list[3]\n",
        "\n",
        "        x = requests.post(url, json=review)\n",
        "        if not x.ok:\n",
        "            print(x.status_code)\n",
        "            print(x.text)\n",
        "\n",
        "main()\n"
      ],
      "execution_count": null,
      "outputs": []
    },
    {
      "cell_type": "code",
      "metadata": {
        "id": "Z1XbFOLKhMOU"
      },
      "source": [
        "sample_JSON_review = {\n",
        "    \"title\": \"Experienced salespeople\", \n",
        "    \"name\": \"Alex H.\", \n",
        "    \"date\": \"2020-02-02\", \n",
        "    \"feedback\": \"It was great to talk to the salespeople in the team, they understood my needs and were able to guide me in the right direction\"\n",
        "    }"
      ],
      "execution_count": null,
      "outputs": []
    },
    {
      "cell_type": "markdown",
      "metadata": {
        "id": "V0bYxUPFhGLs"
      },
      "source": [
        "<hr></hr>\n"
      ]
    },
    {
      "cell_type": "markdown",
      "metadata": {
        "id": "ets-lyKXvXe0"
      },
      "source": [
        "# Image manipulation with python"
      ]
    },
    {
      "cell_type": "code",
      "metadata": {
        "colab": {
          "base_uri": "https://localhost:8080/"
        },
        "id": "03FRqAlBmFX1",
        "outputId": "25c856ce-17b8-4d67-d28c-73297ff8e2a2"
      },
      "source": [
        "!pip3 install pillow"
      ],
      "execution_count": null,
      "outputs": [
        {
          "output_type": "stream",
          "text": [
            "Requirement already satisfied: pillow in /usr/local/lib/python3.7/dist-packages (7.1.2)\n"
          ],
          "name": "stdout"
        }
      ]
    },
    {
      "cell_type": "code",
      "metadata": {
        "colab": {
          "base_uri": "https://localhost:8080/"
        },
        "id": "O7mdxPE_ncrD",
        "outputId": "07a96470-9d78-4024-b49b-65399c249166"
      },
      "source": [
        "import os\n",
        "os.system('curl -c ./cookie -s -L \"https://drive.google.com/uc?export=download&id=$11hg55-dKdHN63yJP20dMLAgPJ5oiTOHF\" > /dev/null | curl -Lb ./cookie \"https://drive.google.com/uc?export=download&confirm=`awk \\'/download/ {print $NF}\\' ./cookie`&id=11hg55-dKdHN63yJP20dMLAgPJ5oiTOHF\" -o images.zip && sudo rm -rf cookie')\n",
        "os.system(\"unzip images.zip\")"
      ],
      "execution_count": null,
      "outputs": [
        {
          "output_type": "execute_result",
          "data": {
            "text/plain": [
              "0"
            ]
          },
          "metadata": {
            "tags": []
          },
          "execution_count": 41
        }
      ]
    },
    {
      "cell_type": "code",
      "metadata": {
        "id": "9EdHq0oamJyc"
      },
      "source": [
        "from matplotlib.pyplot import imshow\n",
        "import numpy as np\n",
        "from PIL import Image\n",
        "\n",
        "%matplotlib inline"
      ],
      "execution_count": null,
      "outputs": []
    },
    {
      "cell_type": "code",
      "metadata": {
        "colab": {
          "base_uri": "https://localhost:8080/",
          "height": 286
        },
        "id": "U2lYb6lrmU2L",
        "outputId": "c80ed962-77e3-4e60-d437-48101c90868a"
      },
      "source": [
        "im = Image.open(\"/content/images/ic_add_location_black_48dp\")\n",
        "imshow(im.rotate(270))"
      ],
      "execution_count": null,
      "outputs": [
        {
          "output_type": "execute_result",
          "data": {
            "text/plain": [
              "<matplotlib.image.AxesImage at 0x7f29d732e550>"
            ]
          },
          "metadata": {
            "tags": []
          },
          "execution_count": 25
        },
        {
          "output_type": "display_data",
          "data": {
            "image/png": "[encoded data removed]",
            "text/plain": [
              "<Figure size 432x288 with 1 Axes>"
            ]
          },
          "metadata": {
            "tags": [],
            "needs_background": "light"
          }
        }
      ]
    },
    {
      "cell_type": "code",
      "metadata": {
        "id": "kqMhfOTMmkSf"
      },
      "source": [
        "dir = \"images\"\n",
        "targetdir = \"icons\" \n",
        "os.mkdir(targetdir)\n",
        "for pic in os.listdir(dir):\n",
        "  if \".DS_Store\" not in pic:\n",
        "    im = Image.open(os.path.join(dir, pic))\n",
        "    im.resize((128, 128)).rotate(270).convert('RGB').save(os.path.join(targetdir, pic + \".jpeg\"))"
      ],
      "execution_count": null,
      "outputs": []
    },
    {
      "cell_type": "code",
      "metadata": {
        "colab": {
          "base_uri": "https://localhost:8080/"
        },
        "id": "VUX-I92QplkK",
        "outputId": "f3f45981-f7fa-4422-d937-30e89aa1316c"
      },
      "source": [
        "os.system(\"rm -r -f icons\")"
      ],
      "execution_count": null,
      "outputs": [
        {
          "output_type": "execute_result",
          "data": {
            "text/plain": [
              "0"
            ]
          },
          "metadata": {
            "tags": []
          },
          "execution_count": 51
        }
      ]
    },
    {
      "cell_type": "code",
      "metadata": {
        "id": "_yZQhUt_rEzw"
      },
      "source": [
        ""
      ],
      "execution_count": null,
      "outputs": []
    }
  ]
}